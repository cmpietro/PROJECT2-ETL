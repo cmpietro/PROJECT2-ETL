{
 "cells": [
  {
   "cell_type": "code",
   "execution_count": 3,
   "metadata": {},
   "outputs": [],
   "source": [
    "from splinter import Browser\n",
    "from bs4 import BeautifulSoup\n",
    "import pandas as pd\n",
    "import time"
   ]
  },
  {
   "cell_type": "code",
   "execution_count": 2,
   "metadata": {},
   "outputs": [],
   "source": [
    "executable_path = {'executable_path':'chromedriver.exe'}\n",
    "browser = Browser('chrome', **executable_path, headless=False)"
   ]
  },
  {
   "cell_type": "code",
   "execution_count": null,
   "metadata": {},
   "outputs": [],
   "source": [
    "url = 'https://www.wholefoodsmarket.com/stores/list'\n",
    "browser.visit(url)\n",
    "browser.reload()"
   ]
  },
  {
   "cell_type": "code",
   "execution_count": null,
   "metadata": {},
   "outputs": [],
   "source": [
    "html = browser.html\n",
    "soup = BeautifulSoup(html, 'html.parser')\n",
    "full_address_list = []"
   ]
  },
  {
   "cell_type": "code",
   "execution_count": null,
   "metadata": {},
   "outputs": [],
   "source": [
    "for y in range(101):\n",
    "    temp_address_list= soup.find_all('div', class_='storefront-address')\n",
    "    x = 0\n",
    "\n",
    "    for entry in temp_address_list:\n",
    "        try:\n",
    "            store_address_1 = soup.find_all('div', class_='street-block')[x].text\n",
    "            store_address_2 = soup.find_all('div', class_='addressfield-container-inline locality-block country-US')[x].text \n",
    "            address_block = store_address_1 + \" \" + store_address_2\n",
    "            full_address_list.append(address_block)\n",
    "            x+=1\n",
    "        except:\n",
    "            x+=1\n",
    "    browser.click_link_by_href(f'/stores/list?page={y+1}')\n",
    "    html = browser.html\n",
    "    soup = BeautifulSoup(html, 'html.parser')\n",
    "    time.sleep(1)\n",
    "full_address_list"
   ]
  },
  {
   "cell_type": "code",
   "execution_count": null,
   "metadata": {},
   "outputs": [],
   "source": [
    "\n",
    "full_address_list"
   ]
  },
  {
   "cell_type": "code",
   "execution_count": null,
   "metadata": {},
   "outputs": [],
   "source": [
    "wfAddr = []\n",
    "wfZip = []\n",
    "for address in full_address_list:\n",
    "    wfAddr.append(address[0:(len(address)-6)])\n",
    "    wfZip.append(address[(len(address)-5):(len(address))])"
   ]
  },
  {
   "cell_type": "code",
   "execution_count": null,
   "metadata": {},
   "outputs": [],
   "source": [
    "wf_df = pd.DataFrame({\n",
    "    'Wf_address': wfAddr,\n",
    "    'Wf_zip': wfZip\n",
    "})\n",
    "\n",
    "wf_df.set_index(['Wf_address'], inplace=True)\n",
    "wf_df.to_csv('WFlocs.csv')"
   ]
  },
  {
   "cell_type": "code",
   "execution_count": null,
   "metadata": {},
   "outputs": [],
   "source": []
  }
 ],
 "metadata": {
  "kernelspec": {
   "display_name": "Python 3",
   "language": "python",
   "name": "python3"
  },
  "language_info": {
   "codemirror_mode": {
    "name": "ipython",
    "version": 3
   },
   "file_extension": ".py",
   "mimetype": "text/x-python",
   "name": "python",
   "nbconvert_exporter": "python",
   "pygments_lexer": "ipython3",
   "version": "3.7.3"
  }
 },
 "nbformat": 4,
 "nbformat_minor": 2
}
