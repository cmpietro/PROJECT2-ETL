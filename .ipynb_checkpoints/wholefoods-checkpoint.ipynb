{
 "cells": [
  {
   "cell_type": "code",
   "execution_count": 22,
   "metadata": {},
   "outputs": [],
   "source": [
    "# import Dependencies\n",
    "\n",
    "from splinter import Browser\n",
    "from bs4 import BeautifulSoup\n",
    "import pandas as pd\n",
    "import time\n"
   ]
  },
  {
   "cell_type": "code",
   "execution_count": 43,
   "metadata": {},
   "outputs": [],
   "source": [
    "# define brower and path\n",
    "def init_browser():\n",
    "    executable_path = {'executable_path':'chromedriver.exe'}\n",
    "    return Browser('chrome', executable_path, headless=False)\n",
    "\n",
    "\n"
   ]
  },
  {
   "cell_type": "code",
   "execution_count": 49,
   "metadata": {},
   "outputs": [],
   "source": [
    "# \n",
    "def scrape_info():\n",
    "    browser = init_browser()\n",
    "\n",
    "    url = 'https://www.wholefoodsmarket.com/stores/list'\n",
    "    browser.visit(url)\n",
    "    browser.reload()\n",
    "\n",
    "    html = browser.html\n",
    "    soup = BeautifulSoup(html, 'html.parser')\n",
    "    full_address_list = []\n",
    "\n",
    "    for y in range(101):\n",
    "        temp_address_list= soup.find_all('div', class_='storefront-address')\n",
    "        x = 0\n",
    "\n",
    "        for entry in temp_address_list:\n",
    "            try:\n",
    "                store_address_1 = soup.find_all('div', class_='street-block')[x].text\n",
    "                store_address_2 = soup.find_all('div', class_='addressfield-container-inline locality-block country-US')[x].text \n",
    "                address_block = store_address_1 + \" \" + store_address_2\n",
    "                full_address_list.append(address_block)\n",
    "                x+=1\n",
    "            except:\n",
    "                x+=1\n",
    "        browser.click_link_by_href(f'/stores/list?page={y+1}')\n",
    "        html = browser.html\n",
    "        soup = BeautifulSoup(html, 'html.parser')\n",
    "        time.sleep(1)\n",
    "\n",
    "    wholefoods_address = {\n",
    "        \"Address\":full_address_list\n",
    "    }\n",
    "    \n",
    "    \n",
    "    print(full_address_list)\n",
    "    browser.quit\n",
    "    \n",
    "    return wholefoods_address\n",
    "\n"
   ]
  },
  {
   "cell_type": "code",
   "execution_count": 55,
   "metadata": {},
   "outputs": [
    {
     "ename": "NameError",
     "evalue": "name 'wholefoods_address' is not defined",
     "output_type": "error",
     "traceback": [
      "\u001b[1;31m---------------------------------------------------------------------------\u001b[0m",
      "\u001b[1;31mNameError\u001b[0m                                 Traceback (most recent call last)",
      "\u001b[1;32m<ipython-input-55-6deb063b5a03>\u001b[0m in \u001b[0;36m<module>\u001b[1;34m\u001b[0m\n\u001b[1;32m----> 1\u001b[1;33m \u001b[0maddress\u001b[0m \u001b[1;33m=\u001b[0m \u001b[0mpd\u001b[0m\u001b[1;33m.\u001b[0m\u001b[0mDataFrame\u001b[0m\u001b[1;33m(\u001b[0m\u001b[0mwholefoods_address\u001b[0m\u001b[1;33m)\u001b[0m\u001b[1;33m\u001b[0m\u001b[1;33m\u001b[0m\u001b[0m\n\u001b[0m\u001b[0;32m      2\u001b[0m \u001b[0maddress\u001b[0m\u001b[1;33m.\u001b[0m\u001b[0mhead\u001b[0m\u001b[1;33m(\u001b[0m\u001b[1;33m)\u001b[0m\u001b[1;33m\u001b[0m\u001b[1;33m\u001b[0m\u001b[0m\n",
      "\u001b[1;31mNameError\u001b[0m: name 'wholefoods_address' is not defined"
     ]
    }
   ],
   "source": []
  },
  {
   "cell_type": "code",
   "execution_count": null,
   "metadata": {},
   "outputs": [],
   "source": []
  }
 ],
 "metadata": {
  "kernelspec": {
   "display_name": "Python 3",
   "language": "python",
   "name": "python3"
  },
  "language_info": {
   "codemirror_mode": {
    "name": "ipython",
    "version": 3
   },
   "file_extension": ".py",
   "mimetype": "text/x-python",
   "name": "python",
   "nbconvert_exporter": "python",
   "pygments_lexer": "ipython3",
   "version": "3.7.3"
  }
 },
 "nbformat": 4,
 "nbformat_minor": 2
}
